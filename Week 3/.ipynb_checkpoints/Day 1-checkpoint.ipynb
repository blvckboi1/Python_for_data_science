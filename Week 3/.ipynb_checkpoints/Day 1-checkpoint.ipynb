{
 "cells": [
  {
   "cell_type": "code",
   "execution_count": 2,
   "id": "08263ee8",
   "metadata": {},
   "outputs": [
    {
     "name": "stdout",
     "output_type": "stream",
     "text": [
      "I\n",
      "G\n",
      "G\n",
      "k\n"
     ]
    }
   ],
   "source": [
    "#Accessing items in an iterable using indexing\n",
    "str_iterable = \"Geeks for GeeksI\"\n",
    "last_item = str_iterable[-1]\n",
    "print(last_item)\n",
    "\n",
    "print(str_iterable[0])\n",
    "print(str_iterable[-len(str_iterable)])\n",
    "print(str_iterable[3])"
   ]
  },
  {
   "cell_type": "code",
   "execution_count": 2,
   "id": "94bd645a",
   "metadata": {
    "scrolled": true
   },
   "outputs": [
    {
     "name": "stdout",
     "output_type": "stream",
     "text": [
      "Ade\n",
      "Simi\n"
     ]
    }
   ],
   "source": [
    "list_iterable = ['Simi', 'kola', 50, 70, 'Ade']\n",
    "last_item = list_iterable[-1]\n",
    "print(last_item)\n",
    "print(list_iterable[0])"
   ]
  },
  {
   "cell_type": "code",
   "execution_count": 19,
   "id": "ae9c9430",
   "metadata": {},
   "outputs": [
    {
     "name": "stdout",
     "output_type": "stream",
     "text": [
      "for GeeksI\n",
      "for\n",
      "for\n",
      "['kola', 50, 70, 'Ade']\n",
      "['kola', 50, 70]\n"
     ]
    }
   ],
   "source": [
    "#slicing an iterable using indexing\n",
    "str_iterable = \"Geeks for GeeksI\"\n",
    "list_iterable = ['Simi', 'kola', 50, 70, 'Ade']\n",
    "\n",
    "sliced_str = str_iterable[6:]\n",
    "print(sliced_str)\n",
    "sliced_str1 = str_iterable[6:9]\n",
    "print(sliced_str1)\n",
    "sliced_str2 = str_iterable[-10:-7]\n",
    "print(sliced_str2)\n",
    "\n",
    "list_iterable = ['Simi', 'kola', 50, 70, 'Ade']\n",
    "print(list_iterable[1:])\n",
    "print(list_iterable[1:4])"
   ]
  },
  {
   "cell_type": "code",
   "execution_count": 20,
   "id": "2f69523a",
   "metadata": {},
   "outputs": [
    {
     "name": "stdout",
     "output_type": "stream",
     "text": [
      "['kola', 50, 70]\n"
     ]
    }
   ],
   "source": [
    "list_iterable = ['Simi', 'kola', 50, 70, 'Ade', 'Sam', 'Joel', 'Sonia', 'Ayo']\n",
    "print(list_iterable[1:4])\n",
    "            "
   ]
  },
  {
   "cell_type": "code",
   "execution_count": 25,
   "id": "7f886e80",
   "metadata": {},
   "outputs": [
    {
     "name": "stdout",
     "output_type": "stream",
     "text": [
      "name\n",
      "name\n"
     ]
    }
   ],
   "source": [
    "str_iterable = \"My name is John\"\n",
    "sliced_str = str_iterable[3:7]\n",
    "print(sliced_str)\n",
    "sliced_str2 = str_iterable[-12:-8]\n",
    "print(sliced_str2)"
   ]
  },
  {
   "cell_type": "code",
   "execution_count": 3,
   "id": "686200ee",
   "metadata": {},
   "outputs": [
    {
     "name": "stdout",
     "output_type": "stream",
     "text": [
      "Please in put your exam score: 29\n",
      "Fail -F\n"
     ]
    }
   ],
   "source": [
    "#working with conditionals\n",
    "score = float(input(\"Please in put your exam score: \"))\n",
    "if score < 0:\n",
    "    print(\"Invalid score\")\n",
    "elif score <=30:\n",
    "    print(\"Fail -F\")\n",
    "elif score > 30 and score < 41:\n",
    "    print(\"Fair - E\")\n",
    "elif score > 40 and score < 51:\n",
    "    print(\"Pass - D\")\n",
    "elif score > 60 and score < 71:\n",
    "    print(\"Very Good - B\")\n",
    "else:\n",
    "    print(\"Excellent - A\")"
   ]
  },
  {
   "cell_type": "code",
   "execution_count": null,
   "id": "51253c33",
   "metadata": {},
   "outputs": [],
   "source": [
    "#working with conditionals\n",
    "reading = float(input(\"Please in put your temperature reading: \"))\n",
    "if reading < 0:\n",
    "    print(\"Invalid temperature\")\n",
    "elif temperature > 0 and temperature < 20:\n",
    "    print(\"Mild\")\n",
    "elif temperature > 21 and temperature < 50:\n",
    "    print(\"Severe\")\n",
    "elif temperature > 50:\n",
    "    print(\"Critical\")"
   ]
  },
  {
   "cell_type": "code",
   "execution_count": null,
   "id": "c301b2c8",
   "metadata": {},
   "outputs": [],
   "source": []
  }
 ],
 "metadata": {
  "kernelspec": {
   "display_name": "Python 3 (ipykernel)",
   "language": "python",
   "name": "python3"
  },
  "language_info": {
   "codemirror_mode": {
    "name": "ipython",
    "version": 3
   },
   "file_extension": ".py",
   "mimetype": "text/x-python",
   "name": "python",
   "nbconvert_exporter": "python",
   "pygments_lexer": "ipython3",
   "version": "3.9.13"
  }
 },
 "nbformat": 4,
 "nbformat_minor": 5
}
