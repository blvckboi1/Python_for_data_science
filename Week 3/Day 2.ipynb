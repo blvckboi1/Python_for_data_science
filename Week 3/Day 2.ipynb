{
 "cells": [
  {
   "cell_type": "code",
   "execution_count": 3,
   "id": "a08f6d39",
   "metadata": {},
   "outputs": [
    {
     "name": "stdout",
     "output_type": "stream",
     "text": [
      "B\n",
      "a\n",
      "n\n",
      "a\n",
      "n\n",
      "a\n",
      "Cashew is of length = 6\n",
      "Orange is of length = 6\n",
      "Banana is of length = 6\n",
      "Mango is of length = 5\n",
      "Pineapple is of length = 9\n"
     ]
    }
   ],
   "source": [
    "#working with for Loop\n",
    "fruit = 'Banana'\n",
    "for item in fruit:\n",
    "    print(item)\n",
    "    \n",
    "fruit_list = ['Cashew', 'Orange', 'Banana', 'Mango', 'Pineapple']\n",
    "for fruit in fruit_list:\n",
    "    print(fruit, \"is of length =\", len(fruit))"
   ]
  },
  {
   "cell_type": "code",
   "execution_count": 5,
   "id": "e6bec6ea",
   "metadata": {},
   "outputs": [
    {
     "name": "stdout",
     "output_type": "stream",
     "text": [
      "2 squared = 4\n",
      "4 squared = 16\n",
      "6 squared = 36\n",
      "8 squared = 64\n",
      "10 squared = 100\n",
      "12 squared = 144\n",
      "14 squared = 196\n",
      "16 squared = 256\n",
      "18 squared = 324\n",
      "20 squared = 400\n",
      "22 squared = 484\n",
      "24 squared = 576\n",
      "26 squared = 676\n",
      "28 squared = 784\n",
      "30 squared = 900\n"
     ]
    }
   ],
   "source": [
    "#working with for Loop and range function\n",
    "for number in range(2,31,2):\n",
    "    print(number, \"squared =\",number**2)"
   ]
  },
  {
   "cell_type": "code",
   "execution_count": 6,
   "id": "2a8bd18f",
   "metadata": {},
   "outputs": [
    {
     "name": "stdout",
     "output_type": "stream",
     "text": [
      "count is at 0\n",
      "count is at 1\n",
      "count is at 2\n",
      "count is at 3\n",
      "count is at 4\n",
      "count is at 5\n",
      "count is at 6\n",
      "count is at 7\n",
      "count is at 8\n",
      "we are done\n"
     ]
    }
   ],
   "source": [
    "#working with while loop\n",
    "count = 0\n",
    "break_point = 9\n",
    "while (count < break_point):\n",
    "    print(\"count is at\", count)\n",
    "    count +=1\n",
    "   #count = count + 1\n",
    "print(\"we are done\")\n",
    "    \n"
   ]
  },
  {
   "cell_type": "code",
   "execution_count": 12,
   "id": "a736371e",
   "metadata": {},
   "outputs": [
    {
     "name": "stdout",
     "output_type": "stream",
     "text": [
      "Cashew\n",
      "Orange\n",
      "Banana\n",
      "Mango\n",
      "Pineapple\n",
      "The end!\n"
     ]
    }
   ],
   "source": [
    "fruit_list = ['Cashew', 'Orange', 'Banana', 'Mango', 'Pineapple']\n",
    "index = 0\n",
    "list_length = len(fruit_list)\n",
    "while (index < list_length):\n",
    "    print(fruit_list[index])\n",
    "    index = index + 1\n",
    "    #index +=1\n",
    "\n",
    "print(\"The end!\")"
   ]
  },
  {
   "cell_type": "code",
   "execution_count": 4,
   "id": "2626b37c",
   "metadata": {},
   "outputs": [
    {
     "name": "stdout",
     "output_type": "stream",
     "text": [
      "2 squared = 4\n",
      "3 squared = 9\n",
      "5 squared = 25\n",
      "7 squared = 49\n",
      "8 squared = 64\n",
      "12 squared = 144\n"
     ]
    }
   ],
   "source": [
    "number_list = [2,3,5,7,8,12]\n",
    "for number in number_list:\n",
    "    print(number, \"squared =\",number**2)"
   ]
  },
  {
   "cell_type": "code",
   "execution_count": 3,
   "id": "5af65367",
   "metadata": {},
   "outputs": [
    {
     "name": "stdout",
     "output_type": "stream",
     "text": [
      "2 squared = 4\n",
      "3 squared = 9\n",
      "5 squared = 25\n",
      "7 squared = 49\n",
      "8 squared = 64\n",
      "12 squared = 144\n"
     ]
    }
   ],
   "source": [
    "number_list = [2,3,5,7,8,12]\n",
    "index = 0\n",
    "length = len(number_list)\n",
    "while (index < length):\n",
    "    \n",
    "    print(number_list[index], \"squared =\", number_list[index]**2)\n",
    "    index +=1"
   ]
  },
  {
   "cell_type": "code",
   "execution_count": 6,
   "id": "1630bac6",
   "metadata": {},
   "outputs": [
    {
     "name": "stdout",
     "output_type": "stream",
     "text": [
      "2 squared = 4\n",
      "8 squared = 64\n",
      "12 squared = 144\n"
     ]
    }
   ],
   "source": [
    "#using conditionals in loop.\n",
    "#printing only even numbers\n",
    "\n",
    "number_list = [2,3,5,7,8,12]\n",
    "for number in number_list:\n",
    "    square = number**2\n",
    "    if(square%2 == 0):\n",
    "        print(number, \"squared =\",square)"
   ]
  },
  {
   "cell_type": "code",
   "execution_count": 8,
   "id": "4e2749f7",
   "metadata": {},
   "outputs": [
    {
     "name": "stdout",
     "output_type": "stream",
     "text": [
      "for 1\n",
      "6\n",
      "7\n",
      "8\n",
      "9\n",
      "10\n",
      "for 2\n",
      "12\n",
      "14\n",
      "16\n",
      "18\n",
      "20\n",
      "for 3\n",
      "18\n",
      "21\n",
      "24\n",
      "27\n",
      "30\n",
      "for 4\n",
      "24\n",
      "28\n",
      "32\n",
      "36\n",
      "40\n",
      "for 5\n",
      "30\n",
      "35\n",
      "40\n",
      "45\n",
      "50\n"
     ]
    }
   ],
   "source": [
    "#Nested for loop\n",
    "num_list1 = [1,2,3,4,5]\n",
    "num_list2 = [6,7,8,9,10]\n",
    "for x in num_list1:\n",
    "    print(\"for\",x)\n",
    "    for y in num_list2:\n",
    "        print(x*y)"
   ]
  },
  {
   "cell_type": "code",
   "execution_count": 9,
   "id": "d2c05d87",
   "metadata": {},
   "outputs": [
    {
     "name": "stdout",
     "output_type": "stream",
     "text": [
      "for 1\n",
      "1 X 6 = 6\n",
      "1 X 7 = 7\n",
      "1 X 8 = 8\n",
      "1 X 9 = 9\n",
      "1 X 10 = 10\n",
      "for 2\n",
      "2 X 6 = 12\n",
      "2 X 7 = 14\n",
      "2 X 8 = 16\n",
      "2 X 9 = 18\n",
      "2 X 10 = 20\n",
      "for 3\n",
      "3 X 6 = 18\n",
      "3 X 7 = 21\n",
      "3 X 8 = 24\n",
      "3 X 9 = 27\n",
      "3 X 10 = 30\n",
      "for 4\n",
      "4 X 6 = 24\n",
      "4 X 7 = 28\n",
      "4 X 8 = 32\n",
      "4 X 9 = 36\n",
      "4 X 10 = 40\n",
      "for 5\n",
      "5 X 6 = 30\n",
      "5 X 7 = 35\n",
      "5 X 8 = 40\n",
      "5 X 9 = 45\n",
      "5 X 10 = 50\n"
     ]
    }
   ],
   "source": [
    "#Nested for loop\n",
    "#formated version\n",
    "num_list1 = [1,2,3,4,5]\n",
    "num_list2 = [6,7,8,9,10]\n",
    "for x in num_list1:\n",
    "    print(\"for\",x)\n",
    "    for y in num_list2:\n",
    "        print(x, \"X\",y, \"=\", x*y)"
   ]
  },
  {
   "cell_type": "code",
   "execution_count": 11,
   "id": "f6b62bde",
   "metadata": {},
   "outputs": [
    {
     "name": "stdout",
     "output_type": "stream",
     "text": [
      "for 1\n",
      "1 X 1 = 1\n",
      "1 X 2 = 2\n",
      "1 X 3 = 3\n",
      "1 X 4 = 4\n",
      "1 X 5 = 5\n",
      "1 X 6 = 6\n",
      "1 X 7 = 7\n",
      "1 X 8 = 8\n",
      "1 X 9 = 9\n",
      "1 X 10 = 10\n",
      "1 X 11 = 11\n",
      "1 X 12 = 12\n",
      "for 2\n",
      "2 X 1 = 2\n",
      "2 X 2 = 4\n",
      "2 X 3 = 6\n",
      "2 X 4 = 8\n",
      "2 X 5 = 10\n",
      "2 X 6 = 12\n",
      "2 X 7 = 14\n",
      "2 X 8 = 16\n",
      "2 X 9 = 18\n",
      "2 X 10 = 20\n",
      "2 X 11 = 22\n",
      "2 X 12 = 24\n",
      "for 3\n",
      "3 X 1 = 3\n",
      "3 X 2 = 6\n",
      "3 X 3 = 9\n",
      "3 X 4 = 12\n",
      "3 X 5 = 15\n",
      "3 X 6 = 18\n",
      "3 X 7 = 21\n",
      "3 X 8 = 24\n",
      "3 X 9 = 27\n",
      "3 X 10 = 30\n",
      "3 X 11 = 33\n",
      "3 X 12 = 36\n",
      "for 4\n",
      "4 X 1 = 4\n",
      "4 X 2 = 8\n",
      "4 X 3 = 12\n",
      "4 X 4 = 16\n",
      "4 X 5 = 20\n",
      "4 X 6 = 24\n",
      "4 X 7 = 28\n",
      "4 X 8 = 32\n",
      "4 X 9 = 36\n",
      "4 X 10 = 40\n",
      "4 X 11 = 44\n",
      "4 X 12 = 48\n",
      "for 5\n",
      "5 X 1 = 5\n",
      "5 X 2 = 10\n",
      "5 X 3 = 15\n",
      "5 X 4 = 20\n",
      "5 X 5 = 25\n",
      "5 X 6 = 30\n",
      "5 X 7 = 35\n",
      "5 X 8 = 40\n",
      "5 X 9 = 45\n",
      "5 X 10 = 50\n",
      "5 X 11 = 55\n",
      "5 X 12 = 60\n",
      "for 6\n",
      "6 X 1 = 6\n",
      "6 X 2 = 12\n",
      "6 X 3 = 18\n",
      "6 X 4 = 24\n",
      "6 X 5 = 30\n",
      "6 X 6 = 36\n",
      "6 X 7 = 42\n",
      "6 X 8 = 48\n",
      "6 X 9 = 54\n",
      "6 X 10 = 60\n",
      "6 X 11 = 66\n",
      "6 X 12 = 72\n",
      "for 7\n",
      "7 X 1 = 7\n",
      "7 X 2 = 14\n",
      "7 X 3 = 21\n",
      "7 X 4 = 28\n",
      "7 X 5 = 35\n",
      "7 X 6 = 42\n",
      "7 X 7 = 49\n",
      "7 X 8 = 56\n",
      "7 X 9 = 63\n",
      "7 X 10 = 70\n",
      "7 X 11 = 77\n",
      "7 X 12 = 84\n",
      "for 8\n",
      "8 X 1 = 8\n",
      "8 X 2 = 16\n",
      "8 X 3 = 24\n",
      "8 X 4 = 32\n",
      "8 X 5 = 40\n",
      "8 X 6 = 48\n",
      "8 X 7 = 56\n",
      "8 X 8 = 64\n",
      "8 X 9 = 72\n",
      "8 X 10 = 80\n",
      "8 X 11 = 88\n",
      "8 X 12 = 96\n",
      "for 9\n",
      "9 X 1 = 9\n",
      "9 X 2 = 18\n",
      "9 X 3 = 27\n",
      "9 X 4 = 36\n",
      "9 X 5 = 45\n",
      "9 X 6 = 54\n",
      "9 X 7 = 63\n",
      "9 X 8 = 72\n",
      "9 X 9 = 81\n",
      "9 X 10 = 90\n",
      "9 X 11 = 99\n",
      "9 X 12 = 108\n",
      "for 10\n",
      "10 X 1 = 10\n",
      "10 X 2 = 20\n",
      "10 X 3 = 30\n",
      "10 X 4 = 40\n",
      "10 X 5 = 50\n",
      "10 X 6 = 60\n",
      "10 X 7 = 70\n",
      "10 X 8 = 80\n",
      "10 X 9 = 90\n",
      "10 X 10 = 100\n",
      "10 X 11 = 110\n",
      "10 X 12 = 120\n",
      "for 11\n",
      "11 X 1 = 11\n",
      "11 X 2 = 22\n",
      "11 X 3 = 33\n",
      "11 X 4 = 44\n",
      "11 X 5 = 55\n",
      "11 X 6 = 66\n",
      "11 X 7 = 77\n",
      "11 X 8 = 88\n",
      "11 X 9 = 99\n",
      "11 X 10 = 110\n",
      "11 X 11 = 121\n",
      "11 X 12 = 132\n",
      "for 12\n",
      "12 X 1 = 12\n",
      "12 X 2 = 24\n",
      "12 X 3 = 36\n",
      "12 X 4 = 48\n",
      "12 X 5 = 60\n",
      "12 X 6 = 72\n",
      "12 X 7 = 84\n",
      "12 X 8 = 96\n",
      "12 X 9 = 108\n",
      "12 X 10 = 120\n",
      "12 X 11 = 132\n",
      "12 X 12 = 144\n"
     ]
    }
   ],
   "source": [
    "num_list1 = range(1,13)\n",
    "num_list2 = range(1,13)\n",
    "for x in num_list1:\n",
    "    print(\"for\",x)\n",
    "    for y in num_list2:\n",
    "        print(x, \"X\",y, \"=\", x*y)"
   ]
  },
  {
   "cell_type": "code",
   "execution_count": 14,
   "id": "b18c3cbf",
   "metadata": {},
   "outputs": [
    {
     "name": "stdout",
     "output_type": "stream",
     "text": [
      "cow\n",
      "goat\n"
     ]
    }
   ],
   "source": [
    "#using break statement in a loop\n",
    "animals = [\"cow\", \"goat\", \"dog\", \"cat\", \"rat\", \"chicken\"]\n",
    "for animal in animals:\n",
    "    print(animal)\n",
    "    if animal == \"goat\":\n",
    "        break"
   ]
  },
  {
   "cell_type": "code",
   "execution_count": 15,
   "id": "3fe080a7",
   "metadata": {},
   "outputs": [
    {
     "name": "stdout",
     "output_type": "stream",
     "text": [
      "cow\n"
     ]
    }
   ],
   "source": [
    "#using break statement in a loop\n",
    "animals = [\"cow\", \"goat\", \"dog\", \"cat\", \"rat\", \"chicken\"]\n",
    "for animal in animals:\n",
    "    if animal == \"goat\":\n",
    "        break\n",
    "    print(animal)"
   ]
  },
  {
   "cell_type": "code",
   "execution_count": 16,
   "id": "bed18513",
   "metadata": {},
   "outputs": [
    {
     "name": "stdout",
     "output_type": "stream",
     "text": [
      "cow\n",
      "dog\n",
      "cat\n",
      "rat\n",
      "chicken\n"
     ]
    }
   ],
   "source": [
    "#using continue statement in a loop\n",
    "animals = [\"cow\", \"goat\", \"dog\", \"cat\", \"rat\", \"chicken\"]\n",
    "for animal in animals:\n",
    "    if animal == \"goat\":\n",
    "        continue\n",
    "    print(animal)"
   ]
  },
  {
   "cell_type": "code",
   "execution_count": null,
   "id": "6429b6f9",
   "metadata": {},
   "outputs": [],
   "source": []
  }
 ],
 "metadata": {
  "kernelspec": {
   "display_name": "Python 3 (ipykernel)",
   "language": "python",
   "name": "python3"
  },
  "language_info": {
   "codemirror_mode": {
    "name": "ipython",
    "version": 3
   },
   "file_extension": ".py",
   "mimetype": "text/x-python",
   "name": "python",
   "nbconvert_exporter": "python",
   "pygments_lexer": "ipython3",
   "version": "3.9.13"
  }
 },
 "nbformat": 4,
 "nbformat_minor": 5
}
