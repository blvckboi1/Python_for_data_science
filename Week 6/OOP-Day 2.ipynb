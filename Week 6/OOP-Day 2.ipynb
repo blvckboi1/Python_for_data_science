{
 "cells": [
  {
   "cell_type": "code",
   "execution_count": 20,
   "id": "b2829fc0",
   "metadata": {},
   "outputs": [
    {
     "name": "stdout",
     "output_type": "stream",
     "text": [
      "The car is ready to move\n",
      "I also accelerate by pressing the gas pedal\n",
      "Car color: Red\n",
      "Car model: Camry\n"
     ]
    }
   ],
   "source": [
    "class vehicle:\n",
    "    steering_shape = \"Circle\"\n",
    "    def __init__(self, no_of_wheels, color):\n",
    "        self.no_of_wheels = no_of_wheels\n",
    "        self.color = color\n",
    "        return\n",
    "    def startEngine(self):\n",
    "        print(\"The car is ready to move\")\n",
    "        return\n",
    "    def accelerate(self, no_of_gears):\n",
    "        print(\"I change my gear\", no_of_gears, \"times\")\n",
    "        return\n",
    "    \n",
    "class Car(vehicle):\n",
    "    def __init__(self, no_of_wheels, color, make, model, year):\n",
    "        super().__init__(no_of_wheels, color)\n",
    "        self.make = make\n",
    "        self.model = model\n",
    "        self.year = year\n",
    "        return\n",
    "    def getInfo(self):\n",
    "        print(\"Car color:\", self.color)\n",
    "        print(\"Car model:\", self.model)\n",
    "        return\n",
    "    def accelerate(self, no_of_gears):\n",
    "        #super().accelerate(no_of_gears)\n",
    "        print(\"I also accelerate by pressing the gas pedal\")\n",
    "\n",
    "# Example usage:\n",
    "my_car = Car(4, \"Red\", \"Toyota\", \"Camry\", 2023)\n",
    "my_car.startEngine()\n",
    "my_car.accelerate(5)\n",
    "my_car.getInfo()"
   ]
  },
  {
   "cell_type": "code",
   "execution_count": 7,
   "id": "58918b8e",
   "metadata": {},
   "outputs": [
    {
     "name": "stdout",
     "output_type": "stream",
     "text": [
      "I can walk or fly\n",
      "I have wings to fly\n",
      "I make whispering sounds\n",
      "I can walk or crawl\n"
     ]
    }
   ],
   "source": [
    "class Animal:\n",
    "    def talk(self):\n",
    "        print(\"I can talk\")\n",
    "        return\n",
    "    def move(self):\n",
    "        print(\"I can move\")\n",
    "        return\n",
    "    \n",
    "class Bird(Animal):\n",
    "    def talk(self):\n",
    "        print(\"I make pleasant sounds\")\n",
    "        return\n",
    "    def move(self):\n",
    "        print(\"I can walk or fly\")\n",
    "        return\n",
    "    def fly(self):\n",
    "        print(\"I have wings to fly\")\n",
    "        return\n",
    "class Snake(Animal):\n",
    "     def talk(self):\n",
    "        print(\"I make whispering sounds\")\n",
    "        return\n",
    "     def move(self):\n",
    "        print(\"I can walk or crawl\")\n",
    "        return\n",
    "\n",
    "sparrow = Bird()\n",
    "sparrow.move()\n",
    "sparrow.fly()\n",
    "\n",
    "cobra = Snake()\n",
    "cobra.talk()\n",
    "cobra.move()"
   ]
  },
  {
   "cell_type": "code",
   "execution_count": 13,
   "id": "f8366cb1",
   "metadata": {},
   "outputs": [
    {
     "name": "stdout",
     "output_type": "stream",
     "text": [
      "The dog can talk\n",
      "it can walk\n"
     ]
    }
   ],
   "source": [
    "#Create 2 classes: Animal and Dog where the Animal class is the parent class. Define the walk and talk method in both classes and use the super() to inherit the init method from the parent class\n",
    "\n",
    "\n",
    "class Animal:\n",
    "    def __init__(self, name, size):\n",
    "        self.name = name\n",
    "        self.size = size\n",
    "        return\n",
    "    def walk(self):\n",
    "        print(\"it can walk\")\n",
    "        return\n",
    "    def talk(self):\n",
    "        print(\"it can talk\")\n",
    "        return\n",
    "\n",
    "class Dog(Animal):\n",
    "    def __init__(self, name, breed):\n",
    "        super().__init__(name, breed)\n",
    "        self.breed = breed\n",
    "        return\n",
    "    def talk(self):\n",
    "        print(\"The dog can talk\")\n",
    "        return\n",
    "\n",
    "#dog1 = Dog(\"Bruce\", \"German Sherphard\")\n",
    "#dog1.talk()\n",
    "#dog1.walk()\n",
    "\n",
    "class Bulldog(dog):\n",
    "    def __init__(self, name, breed):\n",
    "        super().__init__(name, breed)\n",
    "        return\n",
    "    \n",
    "    def deepbark(self):\n",
    "        print(\"Huff Huff\")\n",
    "        return\n",
    "\n",
    "bull_dog = Bulldog (\"Bruce\", \"German Sherphard\")\n",
    "bull_dog.walk()\n",
    "bull_dog.deepbark()"
   ]
  },
  {
   "cell_type": "code",
   "execution_count": 21,
   "id": "3306cd49",
   "metadata": {},
   "outputs": [
    {
     "name": "stdout",
     "output_type": "stream",
     "text": [
      "Name: Ruth\n",
      "Age: 30\n",
      "Sex: Female\n"
     ]
    },
    {
     "data": {
      "text/plain": [
       "<__main__.person at 0x263c208d9d0>"
      ]
     },
     "execution_count": 21,
     "metadata": {},
     "output_type": "execute_result"
    }
   ],
   "source": [
    "#Method overloading\n",
    "#pip3 install multipledispatch\n",
    "from multipledispatch import dispatch\n",
    "class person:\n",
    "    sex = \"male\"\n",
    "    age = 10\n",
    "    def __init__(self, name):\n",
    "        self.name = name\n",
    "        return\n",
    "    def getInfo(self):\n",
    "        print(\"Name:\", self.name)\n",
    "        print(\"Age:\", self.age)\n",
    "        print(\"Sex:\", self.sex)\n",
    "        return self\n",
    "    @dispatch(str, int)\n",
    "    def setInfo(self, sex, age):\n",
    "        self.sex = sex\n",
    "        self.age = age\n",
    "        return\n",
    "    @dispatch(str)\n",
    "    def setInfo(self, sex):\n",
    "        self.sex = sex\n",
    "        return\n",
    "    \n",
    "person1 = person(\"Ruth\")\n",
    "person1.setInfo(\"Female\", 30)\n",
    "person1.getInfo()"
   ]
  }
 ],
 "metadata": {
  "kernelspec": {
   "display_name": "Python 3 (ipykernel)",
   "language": "python",
   "name": "python3"
  },
  "language_info": {
   "codemirror_mode": {
    "name": "ipython",
    "version": 3
   },
   "file_extension": ".py",
   "mimetype": "text/x-python",
   "name": "python",
   "nbconvert_exporter": "python",
   "pygments_lexer": "ipython3",
   "version": "3.9.13"
  }
 },
 "nbformat": 4,
 "nbformat_minor": 5
}
