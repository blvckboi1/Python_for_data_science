{
 "cells": [
  {
   "cell_type": "code",
   "execution_count": 1,
   "id": "ac4abc63",
   "metadata": {},
   "outputs": [
    {
     "name": "stdout",
     "output_type": "stream",
     "text": [
      "I can't walk\n",
      "I can walk\n",
      "yay, i can talk\n"
     ]
    }
   ],
   "source": [
    "class Animal:\n",
    "    def walk(self, legs):\n",
    "        if legs >=2:\n",
    "            print(\"I can walk\")\n",
    "        else:\n",
    "            print(\"I can't walk\")\n",
    "        return\n",
    "    def talk(self):\n",
    "        print(\"yay, i can talk\")\n",
    "        return\n",
    "    \n",
    "dog = Animal()\n",
    "goat = Animal()\n",
    "dog.walk(1)\n",
    "goat.walk(3)\n",
    "dog.talk()\n",
    "#walk(3)"
   ]
  },
  {
   "cell_type": "code",
   "execution_count": 7,
   "id": "af2dcd74",
   "metadata": {},
   "outputs": [
    {
     "name": "stdout",
     "output_type": "stream",
     "text": [
      "Circle\n"
     ]
    }
   ],
   "source": [
    "class Car(object):\n",
    "    has_engine = True\n",
    "    steering_shape = \"Circle\"\n",
    "    def __init__(self, color, make, model, year):\n",
    "        self.color = color\n",
    "        self.make = make\n",
    "        self.model = model\n",
    "        self.year = year\n",
    "        return\n",
    "    def getInfo(self):\n",
    "        print('car color:', self.color)\n",
    "        print(\"car make:\", self.make)\n",
    "        print(\"car model:\", self.model)\n",
    "        print(\"year manufactured:\", self.year)\n",
    "        return\n",
    "    def setInfo(self, color, make, model, year):\n",
    "        self.color = color\n",
    "        self.make = make\n",
    "        self.model = model\n",
    "        self.year = year\n",
    "        print(\"executed the setInfo method\")\n",
    "        return\n",
    "    def changeInfo(self, color, make, model, year):\n",
    "        self.color = color\n",
    "        self.make = make\n",
    "        self.model = model\n",
    "        self.year = year\n",
    "        print(\"executed the setInfo method\")\n",
    "        return\n",
    "    \n",
    "    \n",
    "car1 = Car(\"Red\", \"Honda\", \"Civic\", 2010)\n",
    "#car1.getInfo()\n",
    "#car1.changeInfo(\"Black\", \"Range\", \"Vela\", 2020)\n",
    "#car1.getInfo()\n",
    "print(car1.steering_shape)"
   ]
  },
  {
   "cell_type": "code",
   "execution_count": 8,
   "id": "66620861",
   "metadata": {},
   "outputs": [
    {
     "name": "stdout",
     "output_type": "stream",
     "text": [
      "I can talk\n",
      "Yay!, I can jump\n",
      "I am shouting\n"
     ]
    }
   ],
   "source": [
    "#Create a Person class that has the following behaviors: talk, jump, shout\n",
    "class person:\n",
    "    def talk(self):\n",
    "        print(\"I can talk\")\n",
    "        return\n",
    "    def jump(self):\n",
    "        print(\"Yay!, I can jump\")\n",
    "        return\n",
    "    def shout(self):\n",
    "        print(\"I am shouting\")\n",
    "        return\n",
    "john = person()\n",
    "john.talk()\n",
    "john.jump()\n",
    "john.shout()"
   ]
  },
  {
   "cell_type": "code",
   "execution_count": 14,
   "id": "c605415a",
   "metadata": {},
   "outputs": [
    {
     "name": "stdout",
     "output_type": "stream",
     "text": [
      "10000\n",
      "Current balance 10000\n"
     ]
    }
   ],
   "source": [
    "class bank_customer:\n",
    "    def __init__(self, name, balance=1000):\n",
    "        self.nm = name\n",
    "        self.bal = balance\n",
    "        return\n",
    "    def deposit(self, amount):\n",
    "        self.bal += amount\n",
    "        return\n",
    "    def withdraw(self, amount):\n",
    "        if amount > self.bal:\n",
    "            return \"Insufficient balance\"\n",
    "        else:\n",
    "            self.bal -= amount\n",
    "            return \"Withdrawal successful\"\n",
    "    def check_balance(self):\n",
    "            return self.bal\n",
    "        \n",
    "cust1 = bank_customer(\"Sam\", 10000)\n",
    "bal = cust1.check_balance()\n",
    "print(bal)\n",
    "withdrawal_response = cust1.withdraw(2000)\n",
    "print(\"Current balance\", bal)"
   ]
  },
  {
   "cell_type": "code",
   "execution_count": 5,
   "id": "22259cfb",
   "metadata": {},
   "outputs": [
    {
     "name": "stdout",
     "output_type": "stream",
     "text": [
      "0.30000000000000004\n"
     ]
    }
   ],
   "source": []
  },
  {
   "cell_type": "code",
   "execution_count": null,
   "id": "9792cf81",
   "metadata": {},
   "outputs": [],
   "source": []
  }
 ],
 "metadata": {
  "kernelspec": {
   "display_name": "Python 3 (ipykernel)",
   "language": "python",
   "name": "python3"
  },
  "language_info": {
   "codemirror_mode": {
    "name": "ipython",
    "version": 3
   },
   "file_extension": ".py",
   "mimetype": "text/x-python",
   "name": "python",
   "nbconvert_exporter": "python",
   "pygments_lexer": "ipython3",
   "version": "3.9.13"
  }
 },
 "nbformat": 4,
 "nbformat_minor": 5
}
