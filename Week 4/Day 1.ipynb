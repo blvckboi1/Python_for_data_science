{
 "cells": [
  {
   "cell_type": "code",
   "execution_count": 6,
   "id": "6ab57275",
   "metadata": {},
   "outputs": [
    {
     "name": "stdout",
     "output_type": "stream",
     "text": [
      "[2, 4, 5, 7, 8, 5, 2, 9]\n",
      "[2, 4, 5, 8, 5, 2, 9]\n",
      "2\n"
     ]
    }
   ],
   "source": [
    "#working with list data structure\n",
    "my_list = [2,4,5,7,8,5,2]\n",
    "my_list.append(9)\n",
    "\n",
    "print(my_list)\n",
    "my_list.remove(7)\n",
    "print(my_list)\n",
    "print(my_list.count(5))"
   ]
  },
  {
   "cell_type": "code",
   "execution_count": 7,
   "id": "ab353a7c",
   "metadata": {},
   "outputs": [
    {
     "name": "stdout",
     "output_type": "stream",
     "text": [
      "2 appeared 2 times\n",
      "4 appeared 1 times\n",
      "5 appeared 2 times\n",
      "7 appeared 1 times\n",
      "8 appeared 1 times\n",
      "5 appeared 2 times\n",
      "2 appeared 2 times\n"
     ]
    }
   ],
   "source": [
    "my_list = [2,4,5,7,8,5,2]\n",
    "for i in my_list:\n",
    "    print(i, \"appeared\", my_list.count(i), \"times\")"
   ]
  },
  {
   "cell_type": "code",
   "execution_count": 8,
   "id": "3f0c5640",
   "metadata": {},
   "outputs": [
    {
     "name": "stdout",
     "output_type": "stream",
     "text": [
      "[2, 4, 5, 7, 8, 5, 2]\n",
      "[2, 4, 5, 7, 8, 5, 2, 9]\n"
     ]
    }
   ],
   "source": [
    "my_list = [2,4,5,7,8,5,2]\n",
    "new_list = my_list.copy()\n",
    "my_list.append(9)\n",
    "\n",
    "print(new_list)\n",
    "print(my_list)"
   ]
  },
  {
   "cell_type": "code",
   "execution_count": 9,
   "id": "59dbe112",
   "metadata": {},
   "outputs": [
    {
     "name": "stdout",
     "output_type": "stream",
     "text": [
      "[2, 4, 5, 7, 8, 5, 2, 9]\n",
      "[2, 4, 5, 7, 8, 5, 2, 9]\n"
     ]
    }
   ],
   "source": [
    "my_list = [2,4,5,7,8,5,2]\n",
    "new_list = my_list\n",
    "\n",
    "my_list.append(9)\n",
    "\n",
    "print(new_list)\n",
    "print(my_list)"
   ]
  },
  {
   "cell_type": "code",
   "execution_count": 16,
   "id": "377c29e7",
   "metadata": {},
   "outputs": [
    {
     "name": "stdout",
     "output_type": "stream",
     "text": [
      "[6, 3, 0, 2, 4, 5, 7, 8]\n",
      "[[2, 4, 5, 7, 8], [6, 3, 0, 2, 4, 5, 7, 8]]\n"
     ]
    }
   ],
   "source": [
    "list1 = [2,4,5,7,8]\n",
    "list2 =[6,3,0]\n",
    "list2.extend(list1)\n",
    "print(list2)\n",
    "\n",
    "list_set = [list1, list2]\n",
    "print(list_set)"
   ]
  },
  {
   "cell_type": "code",
   "execution_count": 13,
   "id": "769c9389",
   "metadata": {},
   "outputs": [
    {
     "name": "stdout",
     "output_type": "stream",
     "text": [
      "3\n"
     ]
    }
   ],
   "source": [
    "list3 = [[2, 4, 5, 7, 8], [6, 3, 0, 2, 4, 5, 7, 8]]\n",
    "\n",
    "list1 = [2,4,5,7,8]\n",
    "number = 7\n",
    "for i in list1:\n",
    "    if i == number:\n",
    "        print(list1.index(i))"
   ]
  },
  {
   "cell_type": "code",
   "execution_count": 15,
   "id": "107a1444",
   "metadata": {},
   "outputs": [
    {
     "name": "stdout",
     "output_type": "stream",
     "text": [
      "[2, 4, 7, 8]\n"
     ]
    }
   ],
   "source": [
    "list1 = [2,4,5,7,8]\n",
    "list1.pop(2) #use the index when removing an item using pop\n",
    "print(list1)"
   ]
  },
  {
   "cell_type": "code",
   "execution_count": 18,
   "id": "4647463b",
   "metadata": {},
   "outputs": [
    {
     "name": "stdout",
     "output_type": "stream",
     "text": [
      "[]\n"
     ]
    }
   ],
   "source": [
    "list1 = [2,4,5,7,8]\n",
    "list1.clear() \n",
    "print(list1)"
   ]
  },
  {
   "cell_type": "code",
   "execution_count": 20,
   "id": "08b68463",
   "metadata": {},
   "outputs": [
    {
     "name": "stdout",
     "output_type": "stream",
     "text": [
      "[2, 4, 5, 7, 8]\n"
     ]
    }
   ],
   "source": [
    "list1 = [2,4,5,7,8]\n",
    "del list1 # remove item from the memory entirely\n",
    "print(list1)"
   ]
  },
  {
   "cell_type": "code",
   "execution_count": 22,
   "id": "c202dc08",
   "metadata": {},
   "outputs": [
    {
     "name": "stdout",
     "output_type": "stream",
     "text": [
      "[0, 1, 2, 4, 5, 7, 8]\n"
     ]
    }
   ],
   "source": [
    "list1 = [4,2,5,1,7,0,8]\n",
    "list1.sort() #ascending order\n",
    "print(list1)"
   ]
  },
  {
   "cell_type": "code",
   "execution_count": 23,
   "id": "12d1697e",
   "metadata": {},
   "outputs": [
    {
     "name": "stdout",
     "output_type": "stream",
     "text": [
      "[8, 7, 5, 4, 2, 1, 0]\n"
     ]
    }
   ],
   "source": [
    "list1 = [4,2,5,1,7,0,8]\n",
    "list1.sort(reverse=True) #Descending order\n",
    "print(list1)"
   ]
  },
  {
   "cell_type": "code",
   "execution_count": 26,
   "id": "11d7f0b3",
   "metadata": {},
   "outputs": [
    {
     "name": "stdout",
     "output_type": "stream",
     "text": [
      "[8, 0, 7, 1, 5, 2, 4]\n"
     ]
    }
   ],
   "source": [
    "list1 = [4,2,5,1,7,0,8]\n",
    "new_list1 = list1.copy()\n",
    "list1.sort(reverse=True) #Descending order\n",
    "#print(list1)\n",
    "print(new_list1[::-1])"
   ]
  },
  {
   "cell_type": "code",
   "execution_count": 29,
   "id": "46c87b23",
   "metadata": {},
   "outputs": [
    {
     "name": "stdout",
     "output_type": "stream",
     "text": [
      "[4, 16, 25, 49, 64]\n"
     ]
    }
   ],
   "source": [
    "#create a new list from a list of numbers, whose content is the square of each item in the original list\n",
    "list1 = [2,4,5,7,8]\n",
    "list2 = []\n",
    "for x in list1:\n",
    "    list2.append(x**2)\n",
    "print(list2)"
   ]
  },
  {
   "cell_type": "code",
   "execution_count": 30,
   "id": "48c4832b",
   "metadata": {},
   "outputs": [
    {
     "name": "stdout",
     "output_type": "stream",
     "text": [
      "[4, 16, 25, 49, 64]\n"
     ]
    }
   ],
   "source": [
    "#list comprehension version\n",
    "list1 = [2,4,5,7,8]\n",
    "list2 = [x**2 for x in list1]\n",
    "print(list2)"
   ]
  },
  {
   "cell_type": "code",
   "execution_count": 31,
   "id": "4a92a357",
   "metadata": {},
   "outputs": [
    {
     "name": "stdout",
     "output_type": "stream",
     "text": [
      "[8, 64, 125, 343, 729]\n"
     ]
    }
   ],
   "source": [
    "list1 = [2,4,5,7,9]\n",
    "list2 = [x**3 for x in list1]\n",
    "print(list2)"
   ]
  },
  {
   "cell_type": "code",
   "execution_count": 32,
   "id": "f1df4f20",
   "metadata": {},
   "outputs": [
    {
     "name": "stdout",
     "output_type": "stream",
     "text": [
      "[1, 8, 27, 64, 125, 216, 343, 512, 729, 1000]\n"
     ]
    }
   ],
   "source": [
    "# attempted \n",
    "list1 = range(1, 11)\n",
    "newlist =[x**3 for x in list1]\n",
    "print(newlist)"
   ]
  },
  {
   "cell_type": "code",
   "execution_count": 33,
   "id": "47aa0d92",
   "metadata": {},
   "outputs": [
    {
     "name": "stdout",
     "output_type": "stream",
     "text": [
      "[(1, 3), (1, 4), (2, 3), (2, 1), (2, 4), (3, 1), (3, 4)]\n"
     ]
    }
   ],
   "source": [
    "#nexted for loop\n",
    "combs = []\n",
    "for x in [1,2,3]:\n",
    "    for y in [3,1,4]:\n",
    "        if x != y:\n",
    "            combs.append((x, y))\n",
    "print(combs)"
   ]
  },
  {
   "cell_type": "code",
   "execution_count": 34,
   "id": "35e0b53a",
   "metadata": {},
   "outputs": [
    {
     "name": "stdout",
     "output_type": "stream",
     "text": [
      "[(1, 3), (1, 4), (2, 3), (2, 1), (2, 4), (3, 1), (3, 4)]\n"
     ]
    }
   ],
   "source": [
    "#list comprehension version of nexted for loop\n",
    "combs = [(x,y) for x in [1,2,3] for y in [3,1,4] if x!=y]\n",
    "print(combs)"
   ]
  },
  {
   "cell_type": "code",
   "execution_count": null,
   "id": "23a32ef6",
   "metadata": {},
   "outputs": [],
   "source": []
  }
 ],
 "metadata": {
  "kernelspec": {
   "display_name": "Python 3 (ipykernel)",
   "language": "python",
   "name": "python3"
  },
  "language_info": {
   "codemirror_mode": {
    "name": "ipython",
    "version": 3
   },
   "file_extension": ".py",
   "mimetype": "text/x-python",
   "name": "python",
   "nbconvert_exporter": "python",
   "pygments_lexer": "ipython3",
   "version": "3.9.13"
  }
 },
 "nbformat": 4,
 "nbformat_minor": 5
}
