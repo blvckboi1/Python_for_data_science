{
 "cells": [
  {
   "cell_type": "code",
   "execution_count": 7,
   "id": "370067c5",
   "metadata": {},
   "outputs": [
    {
     "name": "stdout",
     "output_type": "stream",
     "text": [
      "{'first': 50, 'second': 70, 'third': 68}\n"
     ]
    }
   ],
   "source": [
    "#working with dictionary\n",
    "my_dict = {\"first\": 50, \"second\": 70, \"third\": 68}\n",
    "print(my_dict[\"second\"])"
   ]
  },
  {
   "cell_type": "code",
   "execution_count": 8,
   "id": "256c330b",
   "metadata": {},
   "outputs": [
    {
     "name": "stdout",
     "output_type": "stream",
     "text": [
      "70\n"
     ]
    }
   ],
   "source": [
    "my_dict = {\"first\": 50, \"second\": 70, \"third\": 68}\n",
    "print(my_dict[\"second\"]) #how access items in a dict"
   ]
  },
  {
   "cell_type": "code",
   "execution_count": 9,
   "id": "957a15b5",
   "metadata": {},
   "outputs": [
    {
     "name": "stdout",
     "output_type": "stream",
     "text": [
      "{'first': 50, 'second': 90, 'third': 68}\n"
     ]
    }
   ],
   "source": [
    "my_dict = {\"first\": 50, \"second\": 70, \"third\": 68}\n",
    "my_dict[\"second\"] = 90\n",
    "print(my_dict)"
   ]
  },
  {
   "cell_type": "code",
   "execution_count": 10,
   "id": "5c1fc306",
   "metadata": {},
   "outputs": [
    {
     "name": "stdout",
     "output_type": "stream",
     "text": [
      "['Biology', 'Chemistry', 'Physics']\n"
     ]
    }
   ],
   "source": [
    "new_dict = {'Age': 29, 'Sex': 'Female', \"subjects\": ['Biology', 'Chemistry', 'Physics']}\n",
    "#print(new_dict[\"subjects\"])\n",
    "dict_values = new_dict.values()\n",
    "print(dict_values)"
   ]
  },
  {
   "cell_type": "code",
   "execution_count": 15,
   "id": "1ad26c14",
   "metadata": {},
   "outputs": [
    {
     "name": "stdout",
     "output_type": "stream",
     "text": [
      "values dict_values([29, 'Female', ['Biology', 'Chemistry', 'Physics']])\n"
     ]
    }
   ],
   "source": [
    "new_dict = {'Age': 29, 'Sex': 'Female', \"subjects\": ['Biology', 'Chemistry', 'Physics']}\n",
    "#print(new_dict[\"subjects\"])\n",
    "dict_values = new_dict.values()\n",
    "print(\"values\",dict_values)"
   ]
  },
  {
   "cell_type": "code",
   "execution_count": 14,
   "id": "56d3c45f",
   "metadata": {},
   "outputs": [
    {
     "name": "stdout",
     "output_type": "stream",
     "text": [
      "keys dict_keys(['Age', 'Sex', 'subjects'])\n"
     ]
    }
   ],
   "source": [
    "new_dict = {'Age': 29, 'Sex': 'Female', \"subjects\": ['Biology', 'Chemistry', 'Physics']}\n",
    "#print(new_dict[\"subjects\"])\n",
    "dict_keys = new_dict.keys()\n",
    "print(\"keys\",dict_keys)"
   ]
  },
  {
   "cell_type": "code",
   "execution_count": 16,
   "id": "12d94f56",
   "metadata": {},
   "outputs": [
    {
     "name": "stdout",
     "output_type": "stream",
     "text": [
      "items tuple dict_items([('Age', 29), ('Sex', 'Female'), ('subjects', ['Biology', 'Chemistry', 'Physics'])])\n"
     ]
    }
   ],
   "source": [
    "new_dict = {'Age': 29, 'Sex': 'Female', \"subjects\": ['Biology', 'Chemistry', 'Physics']}\n",
    "#print(new_dict[\"subjects\"])\n",
    "dict_items = new_dict.items()\n",
    "print(\"items tuple\", dict_items)"
   ]
  },
  {
   "cell_type": "code",
   "execution_count": 17,
   "id": "de2c0c15",
   "metadata": {},
   "outputs": [
    {
     "name": "stdout",
     "output_type": "stream",
     "text": [
      "key = Age value = 29\n",
      "key = Sex value = Female\n",
      "key = subjects value = ['Biology', 'Chemistry', 'Physics']\n"
     ]
    }
   ],
   "source": [
    "new_dict = {'Age': 29, 'Sex': 'Female', \"subjects\": ['Biology', 'Chemistry', 'Physics']}\n",
    "for item in new_dict.items():\n",
    "    print(\"key =\", item[0], \"value =\", item[1])"
   ]
  },
  {
   "cell_type": "code",
   "execution_count": 2,
   "id": "dae5469d",
   "metadata": {},
   "outputs": [
    {
     "name": "stdout",
     "output_type": "stream",
     "text": [
      "cart total cost = 14000\n"
     ]
    }
   ],
   "source": [
    "cart = [{\"product_id\" : 23, \"name\": \"fish\", \"quantity\": 2, \"price\": 5000}, {\"product_id\" : 26, \"name\": \"shoe\", \"quantity\":2, \"price\": 2000, \"color\": \"blue\"}]\n",
    "total = 0\n",
    "for item in cart:\n",
    "    cost = item[\"price\"] * item[\"quantity\"]\n",
    "    total += cost\n",
    "print(\"cart total cost =\", total)"
   ]
  },
  {
   "cell_type": "code",
   "execution_count": 19,
   "id": "70622ef5",
   "metadata": {},
   "outputs": [
    {
     "name": "stdout",
     "output_type": "stream",
     "text": [
      "Sam scored 204\n",
      "Willy scored 174\n",
      "Ade scored 164\n",
      "[{'name': 'Sam', 'Biology': 60, 'Physics': 64, 'Maths': 80, 'Total': 204}, {'name': 'Willy', 'Biology': 70, 'Physics': 44, 'Maths': 60, 'Total': 174}, {'name': 'Ade', 'Biology': 30, 'Physics': 84, 'Maths': 50, 'Total': 164}]\n"
     ]
    }
   ],
   "source": [
    "data =  [{\"name\": \"Sam\", \"Biology\": 60, \"Physics\": 64, \"Maths\": 80}, {\"name\": \"Willy\", \"Biology\": 70, \"Physics\": 44, \"Maths\": 60}, {\"name\": \"Ade\", \"Biology\": 30, \"Physics\": 84, \"Maths\": 50}]\n",
    "total = 0\n",
    "for student in data:\n",
    "    total_score = student[\"Biology\"] + student[\"Physics\"] + student[\"Maths\"]\n",
    "    student[\"Total\"] = total_score\n",
    "    print(student['name'], \"scored\", total_score)\n",
    "print(data)"
   ]
  },
  {
   "cell_type": "code",
   "execution_count": 21,
   "id": "7dbec6fc",
   "metadata": {},
   "outputs": [
    {
     "name": "stdout",
     "output_type": "stream",
     "text": [
      "Sam scored 204\n",
      "Willy scored 174\n",
      "Ade scored 164\n",
      "[{'name': 'Sam', 'Biology': 60, 'Physics': 64, 'Maths': 80, 'Total': 204}, {'name': 'Willy', 'Biology': 70, 'Physics': 44, 'Maths': 60, 'Total': 174}, {'name': 'Ade', 'Biology': 30, 'Physics': 84, 'Maths': 50, 'Total': 164}]\n"
     ]
    }
   ],
   "source": [
    "data =  [{\"name\": \"Sam\", \"Biology\": 60, \"Physics\": 64, \"Maths\": 80}, {\"name\": \"Willy\", \"Biology\": 70, \"Physics\": 44, \"Maths\": 60}, {\"name\": \"Ade\", \"Biology\": 30, \"Physics\": 84, \"Maths\": 50}]\n",
    "for student in data:\n",
    "    total_score = student.get(\"Biology\") + student.get(\"Physics\") + student.get(\"Maths\")\n",
    "    student[\"Total\"] = total_score\n",
    "    print(student['name'], \"scored\", total_score)\n",
    "print(data)\n"
   ]
  },
  {
   "cell_type": "code",
   "execution_count": 1,
   "id": "19e171fe",
   "metadata": {},
   "outputs": [
    {
     "name": "stdout",
     "output_type": "stream",
     "text": [
      "{'Literature', 'Maths', 'Geography'}\n",
      "{'Literature', 'Maths', 'Geography', 'Biology'}\n"
     ]
    }
   ],
   "source": [
    "#working with set\n",
    "my_set = {'Maths', 'Literature', 'Geography'}\n",
    "print(my_set)\n",
    "my_set.add('Biology')\n",
    "print(my_set)"
   ]
  },
  {
   "cell_type": "code",
   "execution_count": 26,
   "id": "b4c67d78",
   "metadata": {},
   "outputs": [
    {
     "name": "stdout",
     "output_type": "stream",
     "text": [
      "Difference {'Geography', 'Literature'}\n",
      "Union {'Geography', 'Physics', 'Chemistry', 'Literature', 'English', 'Maths'}\n",
      "Intersection {'Maths'}\n"
     ]
    }
   ],
   "source": [
    "set_a = {'Maths', 'Literature', 'Geography'}\n",
    "set_b = {'Maths', 'English', 'Physics', 'Chemistry'}\n",
    "set_difference = set_a.difference(set_b)\n",
    "print(\"Difference\",set_difference)\n",
    "\n",
    "set_union = set_a.union(set_b)\n",
    "print(\"Union\",set_union)\n",
    "set_intersection = set_a.intersection(set_b)\n",
    "print(\"Intersection\",set_intersection)"
   ]
  },
  {
   "cell_type": "code",
   "execution_count": 1,
   "id": "c5fab3ba",
   "metadata": {},
   "outputs": [
    {
     "name": "stdout",
     "output_type": "stream",
     "text": [
      "English\n",
      "Chemistry\n",
      "Maths\n",
      "Physics\n"
     ]
    }
   ],
   "source": [
    "set_b = {'Maths', 'English', 'Physics', 'Chemistry'}\n",
    "for i in set_b:\n",
    "    print(i)"
   ]
  },
  {
   "cell_type": "code",
   "execution_count": 3,
   "id": "7c63201c",
   "metadata": {},
   "outputs": [
    {
     "name": "stdout",
     "output_type": "stream",
     "text": [
      "Difference {'Chisom', 'Sam', 'David'}\n",
      "Union {'Ade', 'Brown', 'David', 'Chisom', 'Ngozi', 'Alake', 'Sam'}\n",
      "Intersection {'Ngozi'}\n"
     ]
    }
   ],
   "source": [
    "set1 = {\"Sam\", \"David\", \"Chisom\", \"Ngozi\"}\n",
    "set2 ={\"Alake\", \"Ade\", \"Ngozi\", \"Brown\"}\n",
    "set_difference = set1.difference(set2)\n",
    "print(\"Difference\",set_difference)\n",
    "\n",
    "set_union = set1.union(set2)\n",
    "print(\"Union\",set_union)\n",
    "\n",
    "set_intersection = set1.intersection(set2)\n",
    "print(\"Intersection\",set_intersection)"
   ]
  },
  {
   "cell_type": "code",
   "execution_count": 4,
   "id": "4643b0da",
   "metadata": {},
   "outputs": [
    {
     "name": "stdout",
     "output_type": "stream",
     "text": [
      "orange\n",
      "banana\n",
      "mango\n"
     ]
    }
   ],
   "source": [
    "#working with tuple\n",
    "mytuple = (\"orange\", \"banana\", \"mango\")\n",
    "for fruits in mytuple:\n",
    "    print(fruits)"
   ]
  },
  {
   "cell_type": "code",
   "execution_count": 2,
   "id": "351f269a",
   "metadata": {},
   "outputs": [
    {
     "name": "stdout",
     "output_type": "stream",
     "text": [
      "13\n",
      "5\n",
      "7\n",
      "8\n",
      "9\n",
      "1\n",
      "9\n",
      "0\n",
      "3\n",
      "16\n",
      "34\n",
      "8\n"
     ]
    }
   ],
   "source": [
    "list_in_list = [13, 5, 7,8,9,1,[9,0,3],[16,34,8]]\n",
    "for num in list_in_list:\n",
    "    if type(num) == type([]):\n",
    "        for i in num:\n",
    "            print(i)\n",
    "    else:\n",
    "        print(num)"
   ]
  },
  {
   "cell_type": "code",
   "execution_count": 14,
   "id": "41b133b7",
   "metadata": {},
   "outputs": [
    {
     "name": "stdout",
     "output_type": "stream",
     "text": [
      "13\n",
      "5\n",
      "7\n",
      "8\n",
      "9\n",
      "1\n",
      "0\n",
      "9\n",
      "3\n",
      "16\n",
      "34\n",
      "8\n",
      "10\n",
      "30\n",
      "80\n"
     ]
    }
   ],
   "source": [
    "list_in_list = [13, 5, 7,8,9,1,{9,0,3},[16,34,8], (10,30,80)]\n",
    "for num in list_in_list:\n",
    "    if type(num) in [type(list()),type(tuple()),type(set())]:\n",
    "        for i in num:\n",
    "            print(i)\n",
    "    else:\n",
    "        print(num)"
   ]
  },
  {
   "cell_type": "code",
   "execution_count": null,
   "id": "dd4ac665",
   "metadata": {},
   "outputs": [],
   "source": []
  }
 ],
 "metadata": {
  "kernelspec": {
   "display_name": "Python 3 (ipykernel)",
   "language": "python",
   "name": "python3"
  },
  "language_info": {
   "codemirror_mode": {
    "name": "ipython",
    "version": 3
   },
   "file_extension": ".py",
   "mimetype": "text/x-python",
   "name": "python",
   "nbconvert_exporter": "python",
   "pygments_lexer": "ipython3",
   "version": "3.9.13"
  }
 },
 "nbformat": 4,
 "nbformat_minor": 5
}
