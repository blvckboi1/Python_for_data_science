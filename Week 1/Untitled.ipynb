{
 "cells": [
  {
   "cell_type": "code",
   "execution_count": 2,
   "id": "e315610c",
   "metadata": {},
   "outputs": [
    {
     "name": "stdout",
     "output_type": "stream",
     "text": [
      "c= 8\n",
      "d= 1024\n",
      "e= 2048\n"
     ]
    }
   ],
   "source": [
    "# calculate expressions(a, b, d) :\n",
    "\n",
    "\n",
    "\n",
    "a = 2\n",
    "\n",
    "\n",
    "\n",
    "b = 4\n",
    "\n",
    "\n",
    "\n",
    "c = a * b\n",
    "\n",
    "\n",
    "\n",
    "d = a ** 10\n",
    "\n",
    "\n",
    "\n",
    "e = d * a\n",
    "\n",
    "\n",
    "\n",
    "print(\"c=\",c)\n",
    "print(\"d=\",d)\n",
    "print(\"e=\",e)"
   ]
  },
  {
   "cell_type": "code",
   "execution_count": null,
   "id": "fa039b2c",
   "metadata": {},
   "outputs": [],
   "source": [
    "# String or str\n",
    "my_string = \"Hello Beautiful\"\n",
    "\n",
    "# Float\n",
    "my_float = 3.14\n",
    "\n",
    "# List\n",
    "my_list = [1,2,3,4,5]\n",
    "\n",
    "# Dictionary or dict\n",
    "my_dict = {'name': 'John', 'age' : 30, 'city' : 'New york'}"
   ]
  }
 ],
 "metadata": {
  "kernelspec": {
   "display_name": "Python 3 (ipykernel)",
   "language": "python",
   "name": "python3"
  },
  "language_info": {
   "codemirror_mode": {
    "name": "ipython",
    "version": 3
   },
   "file_extension": ".py",
   "mimetype": "text/x-python",
   "name": "python",
   "nbconvert_exporter": "python",
   "pygments_lexer": "ipython3",
   "version": "3.9.13"
  }
 },
 "nbformat": 4,
 "nbformat_minor": 5
}
