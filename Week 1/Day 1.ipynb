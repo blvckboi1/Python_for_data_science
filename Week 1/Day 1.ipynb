{
 "cells": [
  {
   "cell_type": "code",
   "execution_count": 3,
   "id": "71511266",
   "metadata": {},
   "outputs": [
    {
     "name": "stdout",
     "output_type": "stream",
     "text": [
      "78.55\n"
     ]
    }
   ],
   "source": [
    "# pi *(r * r)\n",
    "pi = 3.142\n",
    "r = 5\n",
    "area = pi * (r ** 2)\n",
    "print(area)"
   ]
  },
  {
   "cell_type": "code",
   "execution_count": 1,
   "id": "cf415e71",
   "metadata": {},
   "outputs": [
    {
     "name": "stdout",
     "output_type": "stream",
     "text": [
      "amos\n",
      "enuekwe\n"
     ]
    }
   ],
   "source": [
    "#  file input and output\n",
    "file_obj = open(\"C:/Users/hp/Python Data Science/Week 1/file_io_example.txt\", \"r\")\n",
    "my_file = file_obj.read()\n",
    "file_obj.close()\n",
    "print(my_file)"
   ]
  },
  {
   "cell_type": "code",
   "execution_count": null,
   "id": "a66fadbe",
   "metadata": {},
   "outputs": [],
   "source": []
  }
 ],
 "metadata": {
  "kernelspec": {
   "display_name": "Python 3 (ipykernel)",
   "language": "python",
   "name": "python3"
  },
  "language_info": {
   "codemirror_mode": {
    "name": "ipython",
    "version": 3
   },
   "file_extension": ".py",
   "mimetype": "text/x-python",
   "name": "python",
   "nbconvert_exporter": "python",
   "pygments_lexer": "ipython3",
   "version": "3.9.13"
  }
 },
 "nbformat": 4,
 "nbformat_minor": 5
}
