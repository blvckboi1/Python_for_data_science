{
 "cells": [
  {
   "cell_type": "code",
   "execution_count": 2,
   "id": "04c90bce",
   "metadata": {},
   "outputs": [
    {
     "name": "stdout",
     "output_type": "stream",
     "text": [
      "writing into file completed\n"
     ]
    }
   ],
   "source": [
    "# writing to a file\n",
    "file_obj = open(\"C:/Users/hp/Python Data Science/Week 1/file_io_example.txt\", \"w\")\n",
    "file_obj.write(\"\\n New text 1\")\n",
    "file_obj.write(\"\\n New text 2\")\n",
    "file_obj.write(\"\\n New text 3\")\n",
    "file_obj.close()\n",
    "print(\"writing into file completed\")"
   ]
  },
  {
   "cell_type": "code",
   "execution_count": 3,
   "id": "1429ae54",
   "metadata": {},
   "outputs": [
    {
     "name": "stdout",
     "output_type": "stream",
     "text": [
      "\n",
      " New text 1\n",
      " New text 2\n",
      " New text 3\n"
     ]
    }
   ],
   "source": [
    "file_obj = open(\"C:/Users/hp/Python Data Science/Week 1/file_io_example.txt\", \"r\")\n",
    "new_text = file_obj.read()\n",
    "file_obj.close\n",
    "print(new_text)"
   ]
  },
  {
   "cell_type": "code",
   "execution_count": 4,
   "id": "c8359adf",
   "metadata": {},
   "outputs": [
    {
     "name": "stdout",
     "output_type": "stream",
     "text": [
      "writing into file completed\n"
     ]
    }
   ],
   "source": [
    "# writing to a file using append mode\n",
    "file_obj = open(\"C:/Users/hp/Python Data Science/Week 1/file_io_example.txt\", \"a\")\n",
    "file_obj.write(\"\\n New text 1\")\n",
    "file_obj.write(\"\\n New text 2\")\n",
    "file_obj.write(\"\\n New text 3\")\n",
    "file_obj.close()\n",
    "print(\"writing into file completed\")"
   ]
  },
  {
   "cell_type": "code",
   "execution_count": 5,
   "id": "a52dc188",
   "metadata": {},
   "outputs": [
    {
     "name": "stdout",
     "output_type": "stream",
     "text": [
      "\n",
      " New text 1\n",
      " New text 2\n",
      " New text 3\n",
      " New text 1\n",
      " New text 2\n",
      " New text 3\n"
     ]
    }
   ],
   "source": [
    "file_obj = open(\"C:/Users/hp/Python Data Science/Week 1/file_io_example.txt\", \"r\")\n",
    "new_text = file_obj.read()\n",
    "file_obj.close\n",
    "print(new_text)"
   ]
  },
  {
   "cell_type": "code",
   "execution_count": 11,
   "id": "3b9f5983",
   "metadata": {},
   "outputs": [
    {
     "name": "stdout",
     "output_type": "stream",
     "text": [
      "writing into file completed\n",
      "\n",
      " New text 1\n",
      " New text 2\n",
      " New text 3\n",
      " New text 1\n",
      " New text 2\n",
      " New text 3\n",
      " append+ New text 1\n",
      " append+ New text 2\n",
      " append+ New text 3\n",
      " append+ New text 1\n",
      " append+ New text 2\n",
      " append+ New text 3\n",
      " append+ New text 1\n",
      " append+ New text 2\n",
      " append+ New text 3\n",
      " Append+ New text 1\n",
      " Append+ New text 2\n",
      " Append+ New text 3\n",
      " Append+ New text 1\n",
      " Append+ New text 2\n",
      " Append+ New text 3\n",
      " Append+ New text 1\n",
      " Append+ New text 2\n",
      " Append+ New text 3\n"
     ]
    }
   ],
   "source": [
    "# writing to a file using append mode\n",
    "file_obj = open(\"C:/Users/hp/Python Data Science/Week 1/file_io_example.txt\", \"a+\")\n",
    "file_obj.write(\"\\n Append+ New text 1\")\n",
    "file_obj.write(\"\\n Append+ New text 2\")\n",
    "file_obj.write(\"\\n Append+ New text 3\")\n",
    "print(\"writing into file completed\")\n",
    "file_obj.seek(0)\n",
    "text = file_obj.read()\n",
    "file_obj.close()\n",
    "print(text)"
   ]
  },
  {
   "cell_type": "code",
   "execution_count": 3,
   "id": "f8502d7c",
   "metadata": {},
   "outputs": [
    {
     "name": "stdout",
     "output_type": "stream",
     "text": [
      "New text 1\n",
      "\n"
     ]
    }
   ],
   "source": [
    "file_obj = open(\"C:/Users/hp/Python Data Science/Week 1/file_io_example.txt\", \"r\")\n",
    "new_text = file_obj.readline()\n",
    "file_obj.close\n",
    "print(new_text)\n"
   ]
  },
  {
   "cell_type": "code",
   "execution_count": 2,
   "id": "a0b7be45",
   "metadata": {},
   "outputs": [
    {
     "name": "stdout",
     "output_type": "stream",
     "text": [
      "182.0\n"
     ]
    }
   ],
   "source": [
    "x = 36 / 4 * (3 + 2) * 4 + 2 \n",
    "print (x)"
   ]
  },
  {
   "cell_type": "code",
   "execution_count": null,
   "id": "8c4d0fca",
   "metadata": {},
   "outputs": [],
   "source": []
  }
 ],
 "metadata": {
  "kernelspec": {
   "display_name": "Python 3 (ipykernel)",
   "language": "python",
   "name": "python3"
  },
  "language_info": {
   "codemirror_mode": {
    "name": "ipython",
    "version": 3
   },
   "file_extension": ".py",
   "mimetype": "text/x-python",
   "name": "python",
   "nbconvert_exporter": "python",
   "pygments_lexer": "ipython3",
   "version": "3.9.13"
  }
 },
 "nbformat": 4,
 "nbformat_minor": 5
}
