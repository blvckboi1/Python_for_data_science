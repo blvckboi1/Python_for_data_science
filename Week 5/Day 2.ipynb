{
 "cells": [
  {
   "cell_type": "code",
   "execution_count": 5,
   "id": "6b082715",
   "metadata": {},
   "outputs": [
    {
     "name": "stdout",
     "output_type": "stream",
     "text": [
      "total outside the function 0\n",
      "total before declearation 0\n",
      "Total within the function 15\n"
     ]
    }
   ],
   "source": [
    "#global function\n",
    "total = 0\n",
    "\n",
    "def sumNumbers(num1, num2):\n",
    "    global total\n",
    "    print(\"total before declearation\", total)\n",
    "    total = num1 + num2\n",
    "    print(\"Total within the function\", total)\n",
    "    return\n",
    "\n",
    "print(\"total outside the function\", total)\n",
    "sumNumbers(6,9)"
   ]
  },
  {
   "cell_type": "code",
   "execution_count": 8,
   "id": "68927b90",
   "metadata": {},
   "outputs": [
    {
     "name": "stdout",
     "output_type": "stream",
     "text": [
      "120\n",
      "120\n"
     ]
    }
   ],
   "source": [
    "#Iterative version    \n",
    "def factorial_iter(n):\n",
    "    if n <=1:\n",
    "        return 1\n",
    "    total =1\n",
    "    while n >=1:\n",
    "        total = total * n\n",
    "        n = n - 1\n",
    "    return total\n",
    "\n",
    "\"\"\"Recursive version for factorial\n",
    "def factorial_recur(n):\n",
    "    #if n <= 1:     #shorter version\n",
    "        return 1\n",
    "    return n *factorial_recur(n-1)\"\"\"\n",
    "\n",
    "#Recursive version for factorial\n",
    "def factorial_recur(n):\n",
    "    if n <= 1:\n",
    "        return 1\n",
    "    total = n *factorial_recur(n-1)\n",
    "    return total\n",
    "\n",
    "\"\"\"fact(5) = 5 *fact(4)(24)= 120\n",
    "fact(4) = 4 *fact(3)(6) = 24\n",
    "fact(3) = 3 *fact(2)(2) = 6\n",
    "fact(2) = 2 *fact(1)(1) = 2\n",
    "fact(1) = 1\"\"\"\n",
    "\n",
    "\n",
    "print(factorial_iter(5))\n",
    "print(factorial_recur(5))"
   ]
  },
  {
   "cell_type": "code",
   "execution_count": 4,
   "id": "8ae7da2d",
   "metadata": {},
   "outputs": [
    {
     "name": "stdout",
     "output_type": "stream",
     "text": [
      "1\n",
      "3\n",
      "5\n",
      "4\n",
      "5\n",
      "7\n",
      "4\n",
      "2\n",
      "6\n",
      "4\n",
      "8\n",
      "9\n",
      "John\n",
      "5\n",
      "8\n",
      "8\n",
      "5\n",
      "First\n",
      "Sam\n"
     ]
    }
   ],
   "source": [
    "#Recursively extracting items in a nested list\n",
    "list1 = [1,3,5, [4,5,7,[4,2,6,[4,8,9, \"John\"]]], 5,8,(8,5), {\"First\":50}, \"Sam\"]\n",
    "\n",
    "def extract_items_recur(list_input):\n",
    "    for item in list_input:\n",
    "        if type(item) in [list, tuple, dict]:\n",
    "            extract_items_recur(item)\n",
    "        else:\n",
    "            print(item)\n",
    "    return\n",
    "extract_items_recur(list1)"
   ]
  },
  {
   "cell_type": "code",
   "execution_count": 6,
   "id": "6e574b49",
   "metadata": {},
   "outputs": [
    {
     "name": "stdout",
     "output_type": "stream",
     "text": [
      "[25, 49, 64]\n",
      "[20, 30, 40]\n"
     ]
    }
   ],
   "source": [
    "def squareNum(number):\n",
    "    return number**2\n",
    "\n",
    "\n",
    "list_a = [5,7,8]\n",
    "mapped_list = map(squareNum, list_a)\n",
    "print(list(mapped_list))\n",
    "\n",
    "def castToInt(str_int):\n",
    "    return int(str_int)\n",
    "\n",
    "list_b = [\"20\", \"30\", \"40\"]\n",
    "map_list = map(castToInt, list_b)\n",
    "print(list(map_list))"
   ]
  },
  {
   "cell_type": "code",
   "execution_count": null,
   "id": "1122d7e2",
   "metadata": {},
   "outputs": [],
   "source": []
  }
 ],
 "metadata": {
  "kernelspec": {
   "display_name": "Python 3 (ipykernel)",
   "language": "python",
   "name": "python3"
  },
  "language_info": {
   "codemirror_mode": {
    "name": "ipython",
    "version": 3
   },
   "file_extension": ".py",
   "mimetype": "text/x-python",
   "name": "python",
   "nbconvert_exporter": "python",
   "pygments_lexer": "ipython3",
   "version": "3.9.13"
  }
 },
 "nbformat": 4,
 "nbformat_minor": 5
}
