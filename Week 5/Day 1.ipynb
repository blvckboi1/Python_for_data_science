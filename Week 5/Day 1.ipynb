{
 "cells": [
  {
   "cell_type": "code",
   "execution_count": 5,
   "id": "663cd95c",
   "metadata": {},
   "outputs": [
    {
     "data": {
      "text/plain": [
       "'\"This function returns the sum of 2 numbers'"
      ]
     },
     "execution_count": 5,
     "metadata": {},
     "output_type": "execute_result"
    }
   ],
   "source": [
    "#trying my hands on functions\n",
    "def addnumbers(num1, num2):\n",
    "    \"\"\"\"This function returns the sum of 2 numbers\"\"\"\n",
    "    summed_value = num1 + num2\n",
    "    return summed_value\n",
    "\n",
    "#help(addnumbers)\n",
    "\n",
    "addnumbers.__doc__"
   ]
  },
  {
   "cell_type": "code",
   "execution_count": 2,
   "id": "db3e7500",
   "metadata": {},
   "outputs": [
    {
     "name": "stdout",
     "output_type": "stream",
     "text": [
      "120\n"
     ]
    }
   ],
   "source": [
    "def factorial_iterative(n):\n",
    "    num = 1\n",
    "    while n>=1:\n",
    "        num = num * n\n",
    "        n = n-1\n",
    "    return num\n",
    "\n",
    "factorial = factorial_iterative(5)\n",
    "print(factorial)"
   ]
  },
  {
   "cell_type": "code",
   "execution_count": 3,
   "id": "2852dd7c",
   "metadata": {},
   "outputs": [
    {
     "name": "stdout",
     "output_type": "stream",
     "text": [
      "[6, 9, 11, 14]\n"
     ]
    }
   ],
   "source": [
    "list1 = [2,3,4,5]\n",
    "list2 = [4,6,7,9]\n",
    "result = [6,9,11,14]\n",
    "\n",
    "def addlist(list_a, list_b):\n",
    "    length = len(list_a)\n",
    "    result_list = []\n",
    "    for i in range(length):\n",
    "        item = list_a[i] + list_b[i]\n",
    "        result_list.append(item)\n",
    "    return result_list\n",
    "\n",
    "print(addlist(list1, list2))"
   ]
  },
  {
   "cell_type": "code",
   "execution_count": 6,
   "id": "26939807",
   "metadata": {},
   "outputs": [
    {
     "name": "stdout",
     "output_type": "stream",
     "text": [
      "Error: the length of both list must be the same\n"
     ]
    }
   ],
   "source": [
    "list1 = [2,3,4,5]\n",
    "list2 = [4,6,7] # when the values are not the same you can use defensive programming\n",
    "result = [6,9,11,14]\n",
    "\n",
    "def addlist(list_a, list_b):\n",
    "    length = len(list_a)\n",
    "    if length != len(list_b):\n",
    "        return \"Error: the length of both list must be the same\"\n",
    "    result_list = []\n",
    "    for i in range(length):\n",
    "        item = list_a[i] + list_b[i]\n",
    "        result_list.append(item)\n",
    "    return result_list\n",
    "\n",
    "print(addlist(list1, list2))"
   ]
  },
  {
   "cell_type": "code",
   "execution_count": 7,
   "id": "7ceed5ff",
   "metadata": {},
   "outputs": [
    {
     "name": "stdout",
     "output_type": "stream",
     "text": [
      "Sum of squares: 55\n"
     ]
    }
   ],
   "source": [
    "def sum_of_squares(list):\n",
    "    total = 0\n",
    "    for item in list:\n",
    "        total += item ** 2\n",
    "    return total\n",
    "\n",
    "sample_list = [1, 2, 3, 4, 5]\n",
    "result = sum_of_squares(sample_list)\n",
    "print(\"Sum of squares:\", result)"
   ]
  },
  {
   "cell_type": "code",
   "execution_count": 4,
   "id": "aaf942ea",
   "metadata": {},
   "outputs": [
    {
     "name": "stdout",
     "output_type": "stream",
     "text": [
      "54\n"
     ]
    }
   ],
   "source": [
    "\"\"\"Define a function that returns the sum of squares of each item in a list, and call the function with a sample list\"\"\"\n",
    "list1 = [2,3,4,5]\n",
    "#sum_of_squares = 4 + 9 + 16 + 25 = 54\n",
    "def SumOfSquares(list1):\n",
    "    sum_of_squares = 0\n",
    "    for item in list1:\n",
    "        sum_of_squares += item*item\n",
    "    return sum_of_squares\n",
    "\n",
    "print(SumOfSquares(list1))"
   ]
  },
  {
   "cell_type": "code",
   "execution_count": 2,
   "id": "e1844fde",
   "metadata": {},
   "outputs": [
    {
     "name": "stdout",
     "output_type": "stream",
     "text": [
      "Name: Samuel\n",
      "Age: 35\n"
     ]
    }
   ],
   "source": [
    "#function with default value\n",
    "def printinfo(name, age = 35):\n",
    "    \"This function prints the info that are passed into function\"\n",
    "    print(\"Name:\", name)\n",
    "    print(\"Age:\", age)\n",
    "    return\n",
    "\n",
    "printinfo(\"Samuel\")"
   ]
  },
  {
   "cell_type": "code",
   "execution_count": 9,
   "id": "76119a80",
   "metadata": {},
   "outputs": [
    {
     "name": "stdout",
     "output_type": "stream",
     "text": [
      "(10, 20, 30)\n",
      "Name: Joel\n",
      "Total score: 60\n"
     ]
    }
   ],
   "source": [
    "#function with variable length argument\n",
    "def scoreTotal(name, *scores):\n",
    "    print(scores)\n",
    "    print(\"Name:\", name)\n",
    "    total = 0\n",
    "    for score in scores:\n",
    "        total += score\n",
    "    print(\"Total score:\", total)\n",
    "    return\n",
    "\n",
    "scoreTotal(\"Joel\", 10,20,30)"
   ]
  },
  {
   "cell_type": "code",
   "execution_count": 12,
   "id": "988d4b5e",
   "metadata": {},
   "outputs": [
    {
     "name": "stdout",
     "output_type": "stream",
     "text": [
      "{'param1': 50, 'param2': 80, 'param3': 'lagos'}\n",
      "param1 50\n",
      "param2 80\n",
      "param3 lagos\n",
      "[90, 50, 45, 40, 30]\n"
     ]
    }
   ],
   "source": [
    "#function with keyword arguments\n",
    "def kw_args_function(**args):\n",
    "    print(args)\n",
    "    for key, value in args.items():\n",
    "        print(key,value)\n",
    "    return\n",
    "\n",
    "kw_args_function(param1=50, param2=80, param3=\"lagos\")\n",
    "\n",
    "#calling kw_args function\n",
    "list1 = [40,30,50,45,90]\n",
    "list1.sort(reverse=True)\n",
    "print(list1)"
   ]
  },
  {
   "cell_type": "code",
   "execution_count": 20,
   "id": "cc6f84eb",
   "metadata": {},
   "outputs": [
    {
     "name": "stdout",
     "output_type": "stream",
     "text": [
      "Chemistry 60\n",
      "Physics 40\n",
      "Agric 80\n"
     ]
    }
   ],
   "source": [
    "\"\"\"Define a function that accepts keyword (subject and score) keyword argument of students' score, print out each subject and the corresponding score\"\"\"\n",
    "def kw_args_subject_scores(**subjects):\n",
    "    for subject, score in subjects.items():\n",
    "        print(subject, score)\n",
    "    return\n",
    "\n",
    "kw_args_subject_scores(Chemistry=60, Physics=40, Agric=80)\n"
   ]
  },
  {
   "cell_type": "code",
   "execution_count": null,
   "id": "87887271",
   "metadata": {},
   "outputs": [],
   "source": []
  }
 ],
 "metadata": {
  "kernelspec": {
   "display_name": "Python 3 (ipykernel)",
   "language": "python",
   "name": "python3"
  },
  "language_info": {
   "codemirror_mode": {
    "name": "ipython",
    "version": 3
   },
   "file_extension": ".py",
   "mimetype": "text/x-python",
   "name": "python",
   "nbconvert_exporter": "python",
   "pygments_lexer": "ipython3",
   "version": "3.9.13"
  }
 },
 "nbformat": 4,
 "nbformat_minor": 5
}
