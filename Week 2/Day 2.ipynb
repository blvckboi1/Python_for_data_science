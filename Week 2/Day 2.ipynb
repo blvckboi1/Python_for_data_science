{
 "cells": [
  {
   "cell_type": "code",
   "execution_count": 7,
   "id": "cf42cf61",
   "metadata": {},
   "outputs": [
    {
     "name": "stdout",
     "output_type": "stream",
     "text": [
      "False\n",
      "True\n",
      "-- testing logical operators --\n",
      "False\n",
      "True\n",
      "True\n"
     ]
    }
   ],
   "source": [
    "#Operations with comparison\n",
    "# ==, >, <, <=, >=, !=\n",
    "\n",
    "a = 5\n",
    "b = 3\n",
    "c = 20\n",
    "print(b > a)\n",
    "print(a <= c)\n",
    "\n",
    "#using logical operators\n",
    "print(\"-- testing logical operators --\")\n",
    "print(a>b and a>c)\n",
    "print(a>b or a>c)\n",
    "print(a!=b or a==c)"
   ]
  },
  {
   "cell_type": "code",
   "execution_count": 10,
   "id": "4898e2f3",
   "metadata": {},
   "outputs": [
    {
     "name": "stdout",
     "output_type": "stream",
     "text": [
      "18.2\n",
      "0.5\n",
      "12\n"
     ]
    }
   ],
   "source": [
    "#using built-in functions\n",
    "a = -18.2\n",
    "b = abs(a)\n",
    "print(b)\n",
    "print(abs(-0.5))\n",
    "print(abs(12))"
   ]
  },
  {
   "cell_type": "code",
   "execution_count": 12,
   "id": "3cd4fe86",
   "metadata": {},
   "outputs": [
    {
     "name": "stdout",
     "output_type": "stream",
     "text": [
      "min score = 21\n",
      "max score = 90\n"
     ]
    }
   ],
   "source": [
    "#using built-in functions\n",
    "scores = [40,46,60,23,80,58,40,21,90]\n",
    "min_score = min(scores)\n",
    "max_score = max(scores)\n",
    "print('min score =', min_score)  \n",
    "print('max score =', max_score)"
   ]
  },
  {
   "cell_type": "code",
   "execution_count": 16,
   "id": "4b6ce308",
   "metadata": {},
   "outputs": [
    {
     "name": "stdout",
     "output_type": "stream",
     "text": [
      "503\n",
      "50.3\n",
      "10\n",
      "11\n"
     ]
    }
   ],
   "source": [
    "#using built-in functions\n",
    "scores = [40,46,60,23,80,58,40,21,45,90]\n",
    "mystr = \"Hello world\"\n",
    "total = sum(scores)\n",
    "print(total)\n",
    "print(sum(scores)/len(scores))\n",
    "print(len(scores))\n",
    "print(len(mystr))"
   ]
  },
  {
   "cell_type": "code",
   "execution_count": 21,
   "id": "0b3efdc8",
   "metadata": {},
   "outputs": [
    {
     "name": "stdout",
     "output_type": "stream",
     "text": [
      "my score is = 30\n",
      "<class 'str'>\n",
      "<class 'float'>\n",
      "50\n",
      "<class 'int'>\n"
     ]
    }
   ],
   "source": [
    "#using built-in functions\n",
    "a = 30\n",
    "b = \"my score is = \"\n",
    "c = b + str(a)\n",
    "print(c)\n",
    "print(type(str(a)))\n",
    "\n",
    "d = 50.7\n",
    "print(type(d))\n",
    "e = int(d)\n",
    "print(e)\n",
    "print(type(e))"
   ]
  },
  {
   "cell_type": "code",
   "execution_count": 23,
   "id": "befbc4b4",
   "metadata": {},
   "outputs": [
    {
     "name": "stdout",
     "output_type": "stream",
     "text": [
      "min score = 24\n",
      "max score = 90\n",
      "459\n",
      "57.375\n"
     ]
    }
   ],
   "source": [
    "#Given a list [45,60, 69, 63, 78, 30, 24, 90]. Write a program to calculate and output the minimum value, maximum value, and mean value of scores in the above lis\n",
    "#mean calculation \n",
    "total = sum(scores)\n",
    "print(total)\n",
    "print(sum(scores)/len(scores))\n",
    "\n",
    "scores = [45,60, 69, 63, 78, 30, 24, 90]\n",
    "min_score = min(scores)\n",
    "max_score = max(scores)\n",
    "print('min score =', min_score)  \n",
    "print('max score =', max_score)\n",
    "total = sum(scores)\n",
    "print(total)\n",
    "print(sum(scores)/len(scores))"
   ]
  },
  {
   "cell_type": "code",
   "execution_count": 26,
   "id": "3aeddefb",
   "metadata": {},
   "outputs": [
    {
     "name": "stdout",
     "output_type": "stream",
     "text": [
      "num_range = [0, 1, 2, 3, 4, 5, 6, 7, 8, 9]\n",
      "num_range2 = [1, 2, 3, 4, 5, 6, 7, 8, 9]\n",
      "num_range3 = [1, 3, 5, 7, 9]\n",
      "num_range4 = [5, 6, 7, 8, 9, 10, 11, 12, 13, 14, 15, 16, 17, 18, 19, 20]\n"
     ]
    }
   ],
   "source": [
    "# range from 0 to 10 = 0,1,2,3,4,5,6,7,8,9\n",
    "n = 10\n",
    "start_point = 1\n",
    "step = 2\n",
    "num_range = range(10)  #values from 0 to 10\n",
    "num_range2 = range(start_point, n) # values from start_point to n-1 - 1, 2, 3, ..9 \n",
    "num_range3 = range(start_point, n, step) # values from start_point to n-1 - 1, 3, 5, 7, 9\n",
    "num_range4 = range(5, 21)\n",
    "print(\"num_range =\",list(num_range))\n",
    "print(\"num_range2 =\",list(num_range2))\n",
    "print(\"num_range3 =\",list(num_range3))\n",
    "print(\"num_range4 =\",list(num_range4))"
   ]
  },
  {
   "cell_type": "code",
   "execution_count": 5,
   "id": "7f8bed1c",
   "metadata": {
    "scrolled": true
   },
   "outputs": [
    {
     "name": "stdout",
     "output_type": "stream",
     "text": [
      "EMMANUEL\n",
      "emmanuel\n",
      "Emmanuel\n",
      "Python For Data Science\n"
     ]
    }
   ],
   "source": [
    "# lower, upper, strip, join, split\n",
    "name = \"emmanuel\"\n",
    "name_uppercase = name.upper()\n",
    "name_lowercase = name_uppercase.lower()\n",
    "print(name_uppercase)\n",
    "print(name_lowercase)\n",
    "\n",
    "print(name.capitalize())\n",
    "heading = \"Python for data science\"\n",
    "print(heading.title())"
   ]
  },
  {
   "cell_type": "code",
   "execution_count": 13,
   "id": "9b816e51",
   "metadata": {},
   "outputs": [
    {
     "name": "stdout",
     "output_type": "stream",
     "text": [
      "['Amos', 'Dayo', 'Stephanie', 'Nse', 'Aisha', 'Emmanuel']\n",
      "Amos, Dayo, Stephanie, Nse, Aisha, Emmanuel\n"
     ]
    }
   ],
   "source": [
    "#using split() on string\n",
    "mystring = \"Amos Dayo Stephanie Nse Aisha Emmanuel\"\n",
    "combined_list = mystring.split(\" \")\n",
    "print(combined_list)\n",
    "\n",
    "#using join() to transfer a list to a string\n",
    "joined_str = \", \".join(combined_list)\n",
    "print(joined_str)"
   ]
  },
  {
   "cell_type": "code",
   "execution_count": null,
   "id": "1366e8c4",
   "metadata": {},
   "outputs": [],
   "source": []
  }
 ],
 "metadata": {
  "kernelspec": {
   "display_name": "Python 3 (ipykernel)",
   "language": "python",
   "name": "python3"
  },
  "language_info": {
   "codemirror_mode": {
    "name": "ipython",
    "version": 3
   },
   "file_extension": ".py",
   "mimetype": "text/x-python",
   "name": "python",
   "nbconvert_exporter": "python",
   "pygments_lexer": "ipython3",
   "version": "3.9.13"
  }
 },
 "nbformat": 4,
 "nbformat_minor": 5
}
