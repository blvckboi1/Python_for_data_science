{
 "cells": [
  {
   "cell_type": "code",
   "execution_count": 1,
   "id": "c7179c9d",
   "metadata": {},
   "outputs": [
    {
     "data": {
      "text/plain": [
       "'\\nHere is a multi line comment\\nLine 2\\nLine 3 comment\\n'"
      ]
     },
     "execution_count": 1,
     "metadata": {},
     "output_type": "execute_result"
    }
   ],
   "source": [
    "# This is a one line comment\n",
    "\n",
    "\"\"\"\n",
    "Here is a multi line comment\n",
    "Line 2\n",
    "Line 3 comment\n",
    "\"\"\""
   ]
  },
  {
   "cell_type": "code",
   "execution_count": 3,
   "id": "4d6d3a65",
   "metadata": {},
   "outputs": [
    {
     "name": "stdout",
     "output_type": "stream",
     "text": [
      "name is of type <class 'str'>\n",
      "string_int is of type <class 'str'>\n",
      "a is of type <class 'int'>\n",
      "b is of type <class 'float'>\n",
      "c is of type <class 'list'>\n",
      "f is of type <class 'list'>\n",
      "e is of type <class 'complex'>\n",
      "d is of type <class 'set'>\n",
      "g is of type <class 'tuple'>\n",
      "h is of type <class 'dict'>\n"
     ]
    }
   ],
   "source": [
    "#data types\n",
    "name = 'amos enuekwe'\n",
    "string_int = \"45\"\n",
    "a = 30\n",
    "b = 40.4\n",
    "c = [1,3,4]\n",
    "f = ['Nse', 'Dayo', 'Aisha']\n",
    "e = complex(3,2) #3+2i\n",
    "d = {'Nse', 'Dayo', 'Aisha'}\n",
    "g = ('Nse', 'Dayo', 'Aisha')\n",
    "h = {\"name\" : \"David\", \"age\" : 50, \"location\" : \"Lagos\"}\n",
    "\n",
    "print(\"name is of type\", type(name))\n",
    "print(\"string_int is of type\", type(string_int))\n",
    "print(\"a is of type\", type(a))\n",
    "print(\"b is of type\", type(b))\n",
    "print(\"c is of type\", type(c))\n",
    "print(\"f is of type\", type(f))\n",
    "print(\"e is of type\", type(e))\n",
    "print(\"d is of type\", type(d))\n",
    "print(\"g is of type\", type(g))\n",
    "print(\"h is of type\", type(h))"
   ]
  },
  {
   "cell_type": "code",
   "execution_count": null,
   "id": "a4304986",
   "metadata": {},
   "outputs": [],
   "source": [
    "# String or str\n",
    "my_string = \"Hello Beautiful\"\n",
    "\n",
    "# Float\n",
    "my_float = 3.14\n",
    "\n",
    "# List\n",
    "my_list = [1,2,3,4,5]\n",
    "\n",
    "# Dictionary or dict\n",
    "my_dict = {'name': 'John', 'age' : 30, 'city' : 'New york'}"
   ]
  },
  {
   "cell_type": "code",
   "execution_count": null,
   "id": "91b2333a",
   "metadata": {},
   "outputs": [],
   "source": [
    "# calculate expressions(a, b, d) :\n",
    "\n",
    "a = 2\n",
    "\n",
    "b = 4\n",
    "\n",
    "c = a * b\n",
    "\n",
    "d = a ** 10\n",
    "\n",
    "e = d * a\n",
    "\n",
    "print(\"c=\",c)\n",
    "print(\"d=\",d)\n",
    "print(\"e=\",e)"
   ]
  }
 ],
 "metadata": {
  "kernelspec": {
   "display_name": "Python 3 (ipykernel)",
   "language": "python",
   "name": "python3"
  },
  "language_info": {
   "codemirror_mode": {
    "name": "ipython",
    "version": 3
   },
   "file_extension": ".py",
   "mimetype": "text/x-python",
   "name": "python",
   "nbconvert_exporter": "python",
   "pygments_lexer": "ipython3",
   "version": "3.9.13"
  }
 },
 "nbformat": 4,
 "nbformat_minor": 5
}
